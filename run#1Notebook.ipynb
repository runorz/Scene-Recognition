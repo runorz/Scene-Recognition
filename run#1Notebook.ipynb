{
  "nbformat": 4,
  "nbformat_minor": 0,
  "metadata": {
    "colab": {
      "name": "CVC3#1.ipynb",
      "provenance": [],
      "collapsed_sections": []
    },
    "kernelspec": {
      "name": "python3",
      "display_name": "Python 3"
    }
  },
  "cells": [
    {
      "cell_type": "code",
      "metadata": {
        "colab_type": "code",
        "outputId": "67579fa8-9a4a-4916-ddc7-23abe40db1c9",
        "id": "bGoEO4f5ccFX",
        "colab": {
          "base_uri": "https://localhost:8080/",
          "height": 122
        }
      },
      "source": [
        "#If you are not using Colab and read data from your Google Drive, delete this two lines\n",
        "from google.colab import drive\n",
        "drive.mount('/content/drive')"
      ],
      "execution_count": 0,
      "outputs": [
        {
          "output_type": "stream",
          "text": [
            "Go to this URL in a browser: https://accounts.google.com/o/oauth2/auth?client_id=947318989803-6bn6qk8qdgf4n4g3pfee6491hc0brc4i.apps.googleusercontent.com&redirect_uri=urn%3aietf%3awg%3aoauth%3a2.0%3aoob&response_type=code&scope=email%20https%3a%2f%2fwww.googleapis.com%2fauth%2fdocs.test%20https%3a%2f%2fwww.googleapis.com%2fauth%2fdrive%20https%3a%2f%2fwww.googleapis.com%2fauth%2fdrive.photos.readonly%20https%3a%2f%2fwww.googleapis.com%2fauth%2fpeopleapi.readonly\n",
            "\n",
            "Enter your authorization code:\n",
            "··········\n",
            "Mounted at /content/drive\n"
          ],
          "name": "stdout"
        }
      ]
    },
    {
      "cell_type": "code",
      "metadata": {
        "colab_type": "code",
        "id": "gJf-7ddOcqEj",
        "colab": {}
      },
      "source": [
        "import os\n",
        "import numpy as np\n",
        "import cv2\n",
        "\n",
        "from sklearn import neighbors\n",
        "\n",
        "#k for K-Nearest-Neighbour\n",
        "n_neighbors = 3\n",
        "\n",
        "#The size all image will be resized to\n",
        "tiny_size = 16\n",
        "\n",
        "#The directory where training and testing directory were set.\n",
        "#If data was set in current directory, change it to empty string\n",
        "directory = \"/content/drive/My Drive/\"\n",
        "\n",
        "training_directory = directory + 'training/'\n",
        "test_directory = directory + 'testing/'"
      ],
      "execution_count": 0,
      "outputs": []
    },
    {
      "cell_type": "code",
      "metadata": {
        "colab_type": "code",
        "id": "MKmdyr8ncdZN",
        "colab": {}
      },
      "source": [
        "training_images = []\n",
        "training_classes = []\n",
        "\n",
        "validation_images = []\n",
        "validation_classes = []\n",
        "\n",
        "val_ratio = 20\n",
        "#Load all the training image, and their corresponding class index, it may takes couple of minutes\n",
        "#Divide it into training and validation data set\n",
        "for index in range(len(labels)):\n",
        "  count = 0\n",
        "  for name in os.listdir(training_directory+labels[index]):\n",
        "    if count >= 20:\n",
        "      training_images.append(np.concatenate(cv2.resize(cv2.imread(training_directory+labels[index]+\"/\"+name, cv2.IMREAD_GRAYSCALE), (tiny_size, tiny_size))))\n",
        "      training_classes.append(index)\n",
        "    else:\n",
        "      validation_images.append(np.concatenate(cv2.resize(cv2.imread(training_directory+labels[index]+\"/\"+name, cv2.IMREAD_GRAYSCALE), (tiny_size, tiny_size))))\n",
        "      validation_classes.append(index)\n",
        "      count = count + 1\n"
      ],
      "execution_count": 0,
      "outputs": []
    },
    {
      "cell_type": "code",
      "metadata": {
        "colab_type": "code",
        "outputId": "78c49b09-bedb-4d9a-803a-04f2046ea7fc",
        "id": "CIAurDVwccy6",
        "colab": {
          "base_uri": "https://localhost:8080/",
          "height": 34
        }
      },
      "source": [
        "clf = neighbors.KNeighborsClassifier(n_neighbors)\n",
        "\n",
        "\n",
        "#Train the classifier\n",
        "clf.fit(np.asarray(training_images), np.asarray(training_classes))\n",
        "\n",
        "print(clf.score(np.asarray(validation_images), np.asarray(validation_classes)))"
      ],
      "execution_count": 50,
      "outputs": [
        {
          "output_type": "stream",
          "text": [
            "0.18333333333333332\n"
          ],
          "name": "stdout"
        }
      ]
    },
    {
      "cell_type": "code",
      "metadata": {
        "id": "pn6wuMIpc6TG",
        "colab_type": "code",
        "colab": {
          "base_uri": "https://localhost:8080/",
          "height": 285
        },
        "outputId": "939572d3-786b-4f42-c078-8cc5ea16d720"
      },
      "source": [
        "import matplotlib.pyplot as plt\n",
        "\n",
        "acc = []\n",
        "\n",
        "#Plot the different validation accuracy with different k\n",
        "for k in range(1, 30):\n",
        "  clf = neighbors.KNeighborsClassifier(k)\n",
        "  acc.append(clf.fit(np.asarray(training_images), np.asarray(training_classes)).score(np.asarray(validation_images), np.asarray(validation_classes)))\n",
        "\n",
        "plt.plot(acc)"
      ],
      "execution_count": 52,
      "outputs": [
        {
          "output_type": "execute_result",
          "data": {
            "text/plain": [
              "[<matplotlib.lines.Line2D at 0x7f07e306cd68>]"
            ]
          },
          "metadata": {
            "tags": []
          },
          "execution_count": 52
        },
        {
          "output_type": "display_data",
          "data": {
            "image/png": "[encoded data removed]",
            "text/plain": [
              "<Figure size 432x288 with 1 Axes>"
            ]
          },
          "metadata": {
            "tags": []
          }
        }
      ]
    },
    {
      "cell_type": "code",
      "metadata": {
        "id": "HPn33RyRax8k",
        "colab_type": "code",
        "colab": {}
      },
      "source": [
        "training_images = []\n",
        "training_classes = []\n",
        "\n",
        "#All image are set to train\n",
        "#Load all the training image, and their corresponding class index, it may takes couple of minutes\n",
        "for index in range(len(labels)):\n",
        "  for name in os.listdir(training_directory+labels[index]):\n",
        "    training_images.append(np.concatenate(cv2.resize(cv2.imread(training_directory+labels[index]+\"/\"+name, cv2.IMREAD_GRAYSCALE), (tiny_size, tiny_size))))\n",
        "    training_classes.append(index)"
      ],
      "execution_count": 0,
      "outputs": []
    },
    {
      "cell_type": "code",
      "metadata": {
        "id": "dbojciaYH-pG",
        "colab_type": "code",
        "colab": {
          "base_uri": "https://localhost:8080/",
          "height": 68
        },
        "outputId": "3bfa2256-502e-4711-8125-a7c3e2becc9a"
      },
      "source": [
        "clf = neighbors.KNeighborsClassifier(n_neighbors)\n",
        "\n",
        "#Train the classifier\n",
        "clf.fit(np.asarray(training_images), np.asarray(training_classes))"
      ],
      "execution_count": 21,
      "outputs": [
        {
          "output_type": "execute_result",
          "data": {
            "text/plain": [
              "KNeighborsClassifier(algorithm='auto', leaf_size=30, metric='minkowski',\n",
              "                     metric_params=None, n_jobs=None, n_neighbors=3, p=2,\n",
              "                     weights='uniform')"
            ]
          },
          "metadata": {
            "tags": []
          },
          "execution_count": 21
        }
      ]
    },
    {
      "cell_type": "code",
      "metadata": {
        "id": "Rsl8a_ZlM8UJ",
        "colab_type": "code",
        "colab": {}
      },
      "source": [
        "f = open(\"run1.txt\", \"w+\")\n",
        "\n",
        "#Used trained classifier to predict the class of images in testset and write it into text file\n",
        "#This takes longer time than loading training image, about 5-10 minutes\n",
        "for name in os.listdir(test_directory):\n",
        "  predicted_class = clf.predict(np.concatenate(cv2.resize(cv2.imread(test_directory+name, cv2.IMREAD_GRAYSCALE), (tiny_size, tiny_size))).reshape((1, tiny_size*tiny_size)))\n",
        "  f.write(name+\" \"+labels[int(predicted_class[0])]+\"\\n\")\n",
        "\n",
        "f.close()"
      ],
      "execution_count": 0,
      "outputs": []
    }
  ]
}